{
  "nbformat": 4,
  "nbformat_minor": 0,
  "metadata": {
    "colab": {
      "name": "passive_solar_analysis.ipynb",
      "provenance": [],
      "collapsed_sections": [],
      "authorship_tag": "ABX9TyMbdaJcdvnUxcXnJwZBUEFj"
    },
    "kernelspec": {
      "name": "python3",
      "display_name": "Python 3"
    }
  },
  "cells": [
    {
      "cell_type": "markdown",
      "metadata": {
        "id": "Ga55a50ZC7z8"
      },
      "source": [
        "# Passive Solar Analysis - Overview\n",
        "\n",
        "The goal of this notebook is to explore and better understand general principles associated with passive solar energy implementations.\n",
        "\n",
        "![Overview Image](https://github.com/d33bs/passive_solar_analysis/blob/main/overview.svg?raw=true)\n",
        "\n",
        "## Resources\n",
        "- Wikipedia page covering Passive Solar Building Design https://en.wikipedia.org/wiki/Passive_solar_building_design\n",
        "- National Renewable Energy Laboratory (NREL)\n",
        "  - Solar Resources https://www.nrel.gov/gis/solar.html\n",
        "  - National Solar Radiation Database (NSRDB) https://nsrdb.nrel.gov/\n",
        "  - NSRDB Viewer https://maps.nrel.gov/nsrdb-viewer/\n",
        "  - NOAA References to NSRDB https://www.ncdc.noaa.gov/data-access/land-based-station-data/land-based-datasets/solar-radiation\n",
        "- New Mexico Solar Energy Association (NMSEA) \n",
        "  - Passive Solar Overview https://www.nmsolar.org/passive-solar/\n",
        "  - Energy 101 https://www.nmsolar.org/energy-101/\n",
        "  - Passive Solar Design https://www.nmsolar.org/wp-content/uploads/2017/04/Passive-Solar-Design.pdf\n",
        "\n"
      ]
    }
  ]
}