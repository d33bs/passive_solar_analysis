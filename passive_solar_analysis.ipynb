{
  "nbformat": 4,
  "nbformat_minor": 0,
  "metadata": {
    "colab": {
      "name": "passive_solar_analysis.ipynb",
      "provenance": [],
      "collapsed_sections": [],
      "authorship_tag": "ABX9TyNsOxGlbH9jJp3hRPdyyXUo"
    },
    "kernelspec": {
      "name": "python3",
      "display_name": "Python 3"
    }
  },
  "cells": [
    {
      "cell_type": "markdown",
      "metadata": {
        "id": "Ga55a50ZC7z8"
      },
      "source": [
        "# Passive Solar Analysis\n",
        "\n",
        "The goal of this notebook is to explore and better understand general principles associated with passive solar energy implementations.\n",
        "\n",
        "![Overview Image](https://github.com/d33bs/passive_solar_analysis/blob/main/overview.svg?raw=true)\n",
        "\n",
        "## Resources\n",
        "- Wikipedia page covering Passive Solar Building Design https://en.wikipedia.org/wiki/Passive_solar_building_design\n",
        "- New Mexico Solar Energy Association (NMSEA) Overview https://www.nmsolar.org/passive-solar/\n",
        "- NMSEA Energy 101 https://www.nmsolar.org/energy-101/\n",
        "- NMSEA Passive Solar Design https://www.nmsolar.org/wp-content/uploads/2017/04/Passive-Solar-Design.pdf"
      ]
    }
  ]
}