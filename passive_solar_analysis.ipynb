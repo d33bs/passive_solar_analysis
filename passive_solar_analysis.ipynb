{
  "nbformat": 4,
  "nbformat_minor": 0,
  "metadata": {
    "colab": {
      "name": "passive_solar_analysis.ipynb",
      "provenance": [],
      "collapsed_sections": [],
      "authorship_tag": "ABX9TyOUK5abYs8WNqfbQn2tvwYT"
    },
    "kernelspec": {
      "name": "python3",
      "display_name": "Python 3"
    }
  },
  "cells": [
    {
      "cell_type": "markdown",
      "metadata": {
        "id": "Ga55a50ZC7z8"
      },
      "source": [
        "# Passive Solar Analysis - Overview\n",
        "\n",
        "The goal of this notebook is to explore and better understand general principles associated with passive solar energy implementations.\n",
        "\n",
        "![Overview Image](https://github.com/d33bs/passive_solar_analysis/blob/main/overview.svg?raw=true)\n",
        "\n",
        "## Resources\n",
        "- Wikipedia page covering Passive Solar Building Design https://en.wikipedia.org/wiki/Passive_solar_building_design\n",
        "- National Renewable Energy Laboratory (NREL)\n",
        "  - Solar Resources https://www.nrel.gov/gis/solar.html\n",
        "  - National Solar Radiation Database (NSRDB) https://nsrdb.nrel.gov/\n",
        "  - NSRDB Viewer https://maps.nrel.gov/nsrdb-viewer/\n",
        "  - NOAA References to NSRDB https://www.ncdc.noaa.gov/data-access/land-based-station-data/land-based-datasets/solar-radiation\n",
        "  - PVWatts API\n",
        "    - Main site https://pvwatts.nrel.gov/\n",
        "    - API site https://developer.nrel.gov/docs/solar/pvwatts/\n",
        "    - API key docs https://developer.nrel.gov/docs/api-key/\n",
        "- New Mexico Solar Energy Association (NMSEA) \n",
        "  - Passive Solar Overview https://www.nmsolar.org/passive-solar/\n",
        "  - Energy 101 https://www.nmsolar.org/energy-101/\n",
        "  - Passive Solar Design https://www.nmsolar.org/wp-content/uploads/2017/04/Passive-Solar-Design.pdf\n",
        "\n"
      ]
    },
    {
      "cell_type": "code",
      "metadata": {
        "id": "P3Miry5eXK8w"
      },
      "source": [
        "!pip install osmnx"
      ],
      "execution_count": null,
      "outputs": []
    },
    {
      "cell_type": "code",
      "metadata": {
        "id": "G6HlouUGUVEK"
      },
      "source": [
        "import requests\n",
        "import osmnx as ox"
      ],
      "execution_count": 4,
      "outputs": []
    },
    {
      "cell_type": "code",
      "metadata": {
        "id": "-9xhzXLoUYDY"
      },
      "source": [
        "# for example purposes we'll use the Molly Brown House, a historic place and museum https://en.wikipedia.org/wiki/Molly_Brown_House\n",
        "LAT = 39.7375\n",
        "LON = -104.980722\n",
        "location_point = (LAT, LON)"
      ],
      "execution_count": 8,
      "outputs": []
    },
    {
      "cell_type": "code",
      "metadata": {
        "colab": {
          "base_uri": "https://localhost:8080/",
          "height": 466
        },
        "id": "NDvi_I0mX7PZ",
        "outputId": "b2030fe2-3e6c-4a22-a673-db648c767f0b"
      },
      "source": [
        "# get building shape at location\n",
        "tags = {\"building\": True}\n",
        "gdf = ox.geometries_from_point(location_point, tags, dist=10)\n",
        "gdf_proj = ox.project_gdf(gdf)\n",
        "bbox = ox.utils_geo.bbox_from_point(point=location_point, dist=20, project_utm=True)\n",
        "fig, ax = ox.plot_footprints(\n",
        "    gdf_proj,\n",
        "    bbox=bbox,\n",
        "    color=\"y\",\n",
        "    dpi=90,\n",
        "    save=False,\n",
        "    show=True,\n",
        "    close=True,\n",
        ")"
      ],
      "execution_count": 18,
      "outputs": [
        {
          "output_type": "display_data",
          "data": {
            "image/png": "[encoded data removed]",
            "text/plain": [
              "<Figure size 576x576 with 1 Axes>"
            ]
          },
          "metadata": {
            "tags": []
          }
        }
      ]
    },
    {
      "cell_type": "code",
      "metadata": {
        "colab": {
          "base_uri": "https://localhost:8080/",
          "height": 168
        },
        "id": "QBpcF5mwYHrs",
        "outputId": "d683687c-8ce0-439c-e741-12834fd4b9de"
      },
      "source": [
        "gdf_proj"
      ],
      "execution_count": 19,
      "outputs": [
        {
          "output_type": "execute_result",
          "data": {
            "text/html": [
              "<div>\n",
              "<style scoped>\n",
              "    .dataframe tbody tr th:only-of-type {\n",
              "        vertical-align: middle;\n",
              "    }\n",
              "\n",
              "    .dataframe tbody tr th {\n",
              "        vertical-align: top;\n",
              "    }\n",
              "\n",
              "    .dataframe thead th {\n",
              "        text-align: right;\n",
              "    }\n",
              "</style>\n",
              "<table border=\"1\" class=\"dataframe\">\n",
              "  <thead>\n",
              "    <tr style=\"text-align: right;\">\n",
              "      <th></th>\n",
              "      <th>unique_id</th>\n",
              "      <th>osmid</th>\n",
              "      <th>element_type</th>\n",
              "      <th>nodes</th>\n",
              "      <th>addr:city</th>\n",
              "      <th>addr:housenumber</th>\n",
              "      <th>addr:postcode</th>\n",
              "      <th>addr:state</th>\n",
              "      <th>addr:street</th>\n",
              "      <th>building</th>\n",
              "      <th>building:colour</th>\n",
              "      <th>building:levels</th>\n",
              "      <th>name</th>\n",
              "      <th>roof:colour</th>\n",
              "      <th>roof:shape</th>\n",
              "      <th>tourism</th>\n",
              "      <th>website</th>\n",
              "      <th>wikidata</th>\n",
              "      <th>geometry</th>\n",
              "    </tr>\n",
              "  </thead>\n",
              "  <tbody>\n",
              "    <tr>\n",
              "      <th>0</th>\n",
              "      <td>way/131551278</td>\n",
              "      <td>131551278</td>\n",
              "      <td>way</td>\n",
              "      <td>[1447496603, 1447496597, 3416923350, 144749660...</td>\n",
              "      <td>Denver</td>\n",
              "      <td>1340</td>\n",
              "      <td>80203</td>\n",
              "      <td>CO</td>\n",
              "      <td>Pennsylvania Street</td>\n",
              "      <td>civic</td>\n",
              "      <td>#4c4c4c</td>\n",
              "      <td>2</td>\n",
              "      <td>Molly Brown House Museum</td>\n",
              "      <td>#872e08</td>\n",
              "      <td>hipped</td>\n",
              "      <td>museum</td>\n",
              "      <td>https://mollybrown.org/</td>\n",
              "      <td>Q6896531</td>\n",
              "      <td>POLYGON ((501637.786 4398629.282, 501641.170 4...</td>\n",
              "    </tr>\n",
              "  </tbody>\n",
              "</table>\n",
              "</div>"
            ],
            "text/plain": [
              "       unique_id  ...                                           geometry\n",
              "0  way/131551278  ...  POLYGON ((501637.786 4398629.282, 501641.170 4...\n",
              "\n",
              "[1 rows x 19 columns]"
            ]
          },
          "metadata": {
            "tags": []
          },
          "execution_count": 19
        }
      ]
    },
    {
      "cell_type": "code",
      "metadata": {
        "id": "dZEevZ_EZaNG"
      },
      "source": [
        ""
      ],
      "execution_count": null,
      "outputs": []
    }
  ]
}