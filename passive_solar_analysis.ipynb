{
  "nbformat": 4,
  "nbformat_minor": 0,
  "metadata": {
    "colab": {
      "name": "passive_solar_analysis.ipynb",
      "provenance": [],
      "collapsed_sections": [],
      "authorship_tag": "ABX9TyMt1obvsz+NHK13KN3b4FNL"
    },
    "kernelspec": {
      "name": "python3",
      "display_name": "Python 3"
    }
  },
  "cells": [
    {
      "cell_type": "markdown",
      "metadata": {
        "id": "Ga55a50ZC7z8"
      },
      "source": [
        "# Passive Solar Analysis - Overview\n",
        "\n",
        "The goal of this notebook is to explore and better understand general principles associated with passive solar energy implementations.\n",
        "\n",
        "![Overview Image](https://github.com/d33bs/passive_solar_analysis/blob/main/overview.svg?raw=true)\n",
        "\n",
        "## Resources\n",
        "- Wikipedia page covering Passive Solar Building Design https://en.wikipedia.org/wiki/Passive_solar_building_design\n",
        "- National Renewable Energy Laboratory (NREL)\n",
        "  - Solar Resources https://www.nrel.gov/gis/solar.html\n",
        "  - National Solar Radiation Database (NSRDB) https://nsrdb.nrel.gov/\n",
        "  - NSRDB Viewer https://maps.nrel.gov/nsrdb-viewer/\n",
        "  - NOAA References to NSRDB https://www.ncdc.noaa.gov/data-access/land-based-station-data/land-based-datasets/solar-radiation\n",
        "  - PVWatts API\n",
        "    - Main site https://pvwatts.nrel.gov/\n",
        "    - API site https://developer.nrel.gov/docs/solar/pvwatts/\n",
        "    - API key docs https://developer.nrel.gov/docs/api-key/\n",
        "- New Mexico Solar Energy Association (NMSEA) \n",
        "  - Passive Solar Overview https://www.nmsolar.org/passive-solar/\n",
        "  - Energy 101 https://www.nmsolar.org/energy-101/\n",
        "  - Passive Solar Design https://www.nmsolar.org/wp-content/uploads/2017/04/Passive-Solar-Design.pdf\n",
        "\n"
      ]
    },
    {
      "cell_type": "code",
      "metadata": {
        "colab": {
          "base_uri": "https://localhost:8080/",
          "height": 1000
        },
        "id": "P3Miry5eXK8w",
        "outputId": "fb734b61-d9fa-4384-bf7d-7ec4b257c812"
      },
      "source": [
        "!pip install osmnx"
      ],
      "execution_count": 1,
      "outputs": [
        {
          "output_type": "stream",
          "text": [
            "Collecting osmnx\n",
            "\u001b[?25l  Downloading https://files.pythonhosted.org/packages/e3/43/1f5fb0d221c422c019b3b1b3ce6c5d48e6c2e05ee936cbf8d26c979f1310/osmnx-1.0.1-py2.py3-none-any.whl (87kB)\n",
            "\r\u001b[K     |███▊                            | 10kB 18.5MB/s eta 0:00:01\r\u001b[K     |███████▌                        | 20kB 19.2MB/s eta 0:00:01\r\u001b[K     |███████████▎                    | 30kB 9.4MB/s eta 0:00:01\r\u001b[K     |███████████████                 | 40kB 8.9MB/s eta 0:00:01\r\u001b[K     |██████████████████▊             | 51kB 7.2MB/s eta 0:00:01\r\u001b[K     |██████████████████████▌         | 61kB 7.6MB/s eta 0:00:01\r\u001b[K     |██████████████████████████▏     | 71kB 7.8MB/s eta 0:00:01\r\u001b[K     |██████████████████████████████  | 81kB 8.0MB/s eta 0:00:01\r\u001b[K     |████████████████████████████████| 92kB 5.4MB/s \n",
            "\u001b[?25hCollecting geopandas>=0.8\n",
            "\u001b[?25l  Downloading https://files.pythonhosted.org/packages/d7/bf/e9cefb69d39155d122b6ddca53893b61535fa6ffdad70bf5ef708977f53f/geopandas-0.9.0-py2.py3-none-any.whl (994kB)\n",
            "\u001b[K     |████████████████████████████████| 1.0MB 9.8MB/s \n",
            "\u001b[?25hRequirement already satisfied: descartes>=1.1 in /usr/local/lib/python3.7/dist-packages (from osmnx) (1.1.0)\n",
            "Requirement already satisfied: numpy>=1.19 in /usr/local/lib/python3.7/dist-packages (from osmnx) (1.19.5)\n",
            "Requirement already satisfied: pandas>=1.1 in /usr/local/lib/python3.7/dist-packages (from osmnx) (1.1.5)\n",
            "Collecting requests>=2.25\n",
            "\u001b[?25l  Downloading https://files.pythonhosted.org/packages/29/c1/24814557f1d22c56d50280771a17307e6bf87b70727d975fd6b2ce6b014a/requests-2.25.1-py2.py3-none-any.whl (61kB)\n",
            "\u001b[K     |████████████████████████████████| 61kB 4.2MB/s \n",
            "\u001b[?25hRequirement already satisfied: Shapely>=1.7 in /usr/local/lib/python3.7/dist-packages (from osmnx) (1.7.1)\n",
            "Requirement already satisfied: networkx>=2.5 in /usr/local/lib/python3.7/dist-packages (from osmnx) (2.5)\n",
            "Collecting Rtree>=0.9\n",
            "\u001b[?25l  Downloading https://files.pythonhosted.org/packages/51/05/5a67111cee91d2165a2bcb855f442186e3d76ddef834596cc84d4875c401/Rtree-0.9.7-cp37-cp37m-manylinux2010_x86_64.whl (994kB)\n",
            "\u001b[K     |████████████████████████████████| 1.0MB 17.0MB/s \n",
            "\u001b[?25hCollecting matplotlib>=3.3\n",
            "\u001b[?25l  Downloading https://files.pythonhosted.org/packages/23/3d/db9a6b3c83c9511301152dbb64a029c3a4313c86eaef12c237b13ecf91d6/matplotlib-3.3.4-cp37-cp37m-manylinux1_x86_64.whl (11.5MB)\n",
            "\u001b[K     |████████████████████████████████| 11.6MB 22.8MB/s \n",
            "\u001b[?25hCollecting pyproj>=2.6\n",
            "\u001b[?25l  Downloading https://files.pythonhosted.org/packages/b1/72/d52e9ca81caef056062d71991b0e9b1d16af042245627c5d0e4916a36c4f/pyproj-3.0.1-cp37-cp37m-manylinux2010_x86_64.whl (6.5MB)\n",
            "\u001b[K     |████████████████████████████████| 6.5MB 52.3MB/s \n",
            "\u001b[?25hCollecting fiona>=1.8\n",
            "\u001b[?25l  Downloading https://files.pythonhosted.org/packages/47/c2/67d1d0acbaaee3b03e5e22e3b96c33219cb5dd392531c9ff9cee7c2eb3e4/Fiona-1.8.18-cp37-cp37m-manylinux1_x86_64.whl (14.8MB)\n",
            "\u001b[K     |████████████████████████████████| 14.8MB 340kB/s \n",
            "\u001b[?25hRequirement already satisfied: pytz>=2017.2 in /usr/local/lib/python3.7/dist-packages (from pandas>=1.1->osmnx) (2018.9)\n",
            "Requirement already satisfied: python-dateutil>=2.7.3 in /usr/local/lib/python3.7/dist-packages (from pandas>=1.1->osmnx) (2.8.1)\n",
            "Requirement already satisfied: urllib3<1.27,>=1.21.1 in /usr/local/lib/python3.7/dist-packages (from requests>=2.25->osmnx) (1.24.3)\n",
            "Requirement already satisfied: chardet<5,>=3.0.2 in /usr/local/lib/python3.7/dist-packages (from requests>=2.25->osmnx) (3.0.4)\n",
            "Requirement already satisfied: idna<3,>=2.5 in /usr/local/lib/python3.7/dist-packages (from requests>=2.25->osmnx) (2.10)\n",
            "Requirement already satisfied: certifi>=2017.4.17 in /usr/local/lib/python3.7/dist-packages (from requests>=2.25->osmnx) (2020.12.5)\n",
            "Requirement already satisfied: decorator>=4.3.0 in /usr/local/lib/python3.7/dist-packages (from networkx>=2.5->osmnx) (4.4.2)\n",
            "Requirement already satisfied: cycler>=0.10 in /usr/local/lib/python3.7/dist-packages (from matplotlib>=3.3->osmnx) (0.10.0)\n",
            "Requirement already satisfied: pillow>=6.2.0 in /usr/local/lib/python3.7/dist-packages (from matplotlib>=3.3->osmnx) (7.0.0)\n",
            "Requirement already satisfied: pyparsing!=2.0.4,!=2.1.2,!=2.1.6,>=2.0.3 in /usr/local/lib/python3.7/dist-packages (from matplotlib>=3.3->osmnx) (2.4.7)\n",
            "Requirement already satisfied: kiwisolver>=1.0.1 in /usr/local/lib/python3.7/dist-packages (from matplotlib>=3.3->osmnx) (1.3.1)\n",
            "Collecting cligj>=0.5\n",
            "  Downloading https://files.pythonhosted.org/packages/42/1e/947eadf10d6804bf276eb8a038bd5307996dceaaa41cfd21b7a15ec62f5d/cligj-0.7.1-py3-none-any.whl\n",
            "Collecting munch\n",
            "  Downloading https://files.pythonhosted.org/packages/cc/ab/85d8da5c9a45e072301beb37ad7f833cd344e04c817d97e0cc75681d248f/munch-2.5.0-py2.py3-none-any.whl\n",
            "Requirement already satisfied: attrs>=17 in /usr/local/lib/python3.7/dist-packages (from fiona>=1.8->geopandas>=0.8->osmnx) (20.3.0)\n",
            "Requirement already satisfied: six>=1.7 in /usr/local/lib/python3.7/dist-packages (from fiona>=1.8->geopandas>=0.8->osmnx) (1.15.0)\n",
            "Requirement already satisfied: click<8,>=4.0 in /usr/local/lib/python3.7/dist-packages (from fiona>=1.8->geopandas>=0.8->osmnx) (7.1.2)\n",
            "Collecting click-plugins>=1.0\n",
            "  Downloading https://files.pythonhosted.org/packages/e9/da/824b92d9942f4e472702488857914bdd50f73021efea15b4cad9aca8ecef/click_plugins-1.1.1-py2.py3-none-any.whl\n",
            "\u001b[31mERROR: google-colab 1.0.0 has requirement requests~=2.23.0, but you'll have requests 2.25.1 which is incompatible.\u001b[0m\n",
            "\u001b[31mERROR: datascience 0.10.6 has requirement folium==0.2.1, but you'll have folium 0.8.3 which is incompatible.\u001b[0m\n",
            "\u001b[31mERROR: albumentations 0.1.12 has requirement imgaug<0.2.7,>=0.2.5, but you'll have imgaug 0.2.9 which is incompatible.\u001b[0m\n",
            "Installing collected packages: pyproj, cligj, munch, click-plugins, fiona, geopandas, requests, Rtree, matplotlib, osmnx\n",
            "  Found existing installation: requests 2.23.0\n",
            "    Uninstalling requests-2.23.0:\n",
            "      Successfully uninstalled requests-2.23.0\n",
            "  Found existing installation: matplotlib 3.2.2\n",
            "    Uninstalling matplotlib-3.2.2:\n",
            "      Successfully uninstalled matplotlib-3.2.2\n",
            "Successfully installed Rtree-0.9.7 click-plugins-1.1.1 cligj-0.7.1 fiona-1.8.18 geopandas-0.9.0 matplotlib-3.3.4 munch-2.5.0 osmnx-1.0.1 pyproj-3.0.1 requests-2.25.1\n"
          ],
          "name": "stdout"
        },
        {
          "output_type": "display_data",
          "data": {
            "application/vnd.colab-display-data+json": {
              "pip_warning": {
                "packages": [
                  "matplotlib",
                  "mpl_toolkits"
                ]
              }
            }
          },
          "metadata": {
            "tags": []
          }
        }
      ]
    },
    {
      "cell_type": "code",
      "metadata": {
        "id": "G6HlouUGUVEK"
      },
      "source": [
        "import requests\n",
        "import osmnx as ox\n",
        "import matplotlib.pyplot as plt"
      ],
      "execution_count": 1,
      "outputs": []
    },
    {
      "cell_type": "code",
      "metadata": {
        "id": "-9xhzXLoUYDY"
      },
      "source": [
        "# for example purposes we'll use the Molly Brown House, a historic place and museum https://en.wikipedia.org/wiki/Molly_Brown_House\n",
        "LAT = 39.7375\n",
        "LON = -104.980722\n",
        "location_point = (LAT, LON)"
      ],
      "execution_count": 67,
      "outputs": []
    },
    {
      "cell_type": "code",
      "metadata": {
        "colab": {
          "base_uri": "https://localhost:8080/",
          "height": 168
        },
        "id": "NDvi_I0mX7PZ",
        "outputId": "34b3efa2-2694-4253-8a1d-f3b2d4b4da9f"
      },
      "source": [
        "# get building shape at location\n",
        "tags = {\"building\": True}\n",
        "gdf = ox.geometries_from_point(location_point, tags, dist=10)\n",
        "gdf_proj = ox.project_gdf(gdf)\n",
        "gdf_proj_latlon = ox.project_gdf(gdf,to_latlong=True)\n",
        "gdf_proj\n"
      ],
      "execution_count": 68,
      "outputs": [
        {
          "output_type": "execute_result",
          "data": {
            "text/html": [
              "<div>\n",
              "<style scoped>\n",
              "    .dataframe tbody tr th:only-of-type {\n",
              "        vertical-align: middle;\n",
              "    }\n",
              "\n",
              "    .dataframe tbody tr th {\n",
              "        vertical-align: top;\n",
              "    }\n",
              "\n",
              "    .dataframe thead th {\n",
              "        text-align: right;\n",
              "    }\n",
              "</style>\n",
              "<table border=\"1\" class=\"dataframe\">\n",
              "  <thead>\n",
              "    <tr style=\"text-align: right;\">\n",
              "      <th></th>\n",
              "      <th>unique_id</th>\n",
              "      <th>osmid</th>\n",
              "      <th>element_type</th>\n",
              "      <th>nodes</th>\n",
              "      <th>addr:city</th>\n",
              "      <th>addr:housenumber</th>\n",
              "      <th>addr:postcode</th>\n",
              "      <th>addr:state</th>\n",
              "      <th>addr:street</th>\n",
              "      <th>building</th>\n",
              "      <th>building:colour</th>\n",
              "      <th>building:levels</th>\n",
              "      <th>name</th>\n",
              "      <th>roof:colour</th>\n",
              "      <th>roof:shape</th>\n",
              "      <th>tourism</th>\n",
              "      <th>website</th>\n",
              "      <th>wikidata</th>\n",
              "      <th>geometry</th>\n",
              "    </tr>\n",
              "  </thead>\n",
              "  <tbody>\n",
              "    <tr>\n",
              "      <th>0</th>\n",
              "      <td>way/131551278</td>\n",
              "      <td>131551278</td>\n",
              "      <td>way</td>\n",
              "      <td>[1447496603, 1447496597, 3416923350, 144749660...</td>\n",
              "      <td>Denver</td>\n",
              "      <td>1340</td>\n",
              "      <td>80203</td>\n",
              "      <td>CO</td>\n",
              "      <td>Pennsylvania Street</td>\n",
              "      <td>civic</td>\n",
              "      <td>#4c4c4c</td>\n",
              "      <td>2</td>\n",
              "      <td>Molly Brown House Museum</td>\n",
              "      <td>#872e08</td>\n",
              "      <td>hipped</td>\n",
              "      <td>museum</td>\n",
              "      <td>https://mollybrown.org/</td>\n",
              "      <td>Q6896531</td>\n",
              "      <td>POLYGON ((501637.786 4398629.282, 501641.170 4...</td>\n",
              "    </tr>\n",
              "  </tbody>\n",
              "</table>\n",
              "</div>"
            ],
            "text/plain": [
              "       unique_id  ...                                           geometry\n",
              "0  way/131551278  ...  POLYGON ((501637.786 4398629.282, 501641.170 4...\n",
              "\n",
              "[1 rows x 19 columns]"
            ]
          },
          "metadata": {
            "tags": []
          },
          "execution_count": 68
        }
      ]
    },
    {
      "cell_type": "code",
      "metadata": {
        "colab": {
          "base_uri": "https://localhost:8080/"
        },
        "id": "2Udq35NTAfHb",
        "outputId": "7c7f7cf2-5ef8-48dc-ddfd-4def3d37ec01"
      },
      "source": [
        "# theoretical roof area by meters squared\n",
        "building_polygon = gdf_proj[\"geometry\"].iloc[0]\n",
        "print(\"Building has roof area of: {:.2f} m^2\".format(building_polygon.area))"
      ],
      "execution_count": 69,
      "outputs": [
        {
          "output_type": "stream",
          "text": [
            "Building has roof area of: 272.59 m^2\n"
          ],
          "name": "stdout"
        }
      ]
    },
    {
      "cell_type": "code",
      "metadata": {
        "colab": {
          "base_uri": "https://localhost:8080/",
          "height": 265
        },
        "id": "nyi6llm9kZOx",
        "outputId": "e2cb925a-e05f-47dd-ca96-a006649474d5"
      },
      "source": [
        "# show building shape with centroid marker\n",
        "x,y = gdf_proj_latlon[\"geometry\"].iloc[0].exterior.xy\n",
        "fig, ax = plt.subplots()\n",
        "# plot exterior \n",
        "plt.plot(x,y, linewidth=5)\n",
        "# plot centroid\n",
        "plt.plot(gdf_proj_latlon[\"geometry\"].iloc[0].centroid.coords[0][0],\n",
        "         gdf_proj_latlon[\"geometry\"].iloc[0].centroid.coords[0][1], \n",
        "         'o',\n",
        "         markersize=10)\n",
        "# avoid scientific notation for lat/lon numbers\n",
        "ax.ticklabel_format(useOffset=False)"
      ],
      "execution_count": 70,
      "outputs": [
        {
          "output_type": "display_data",
          "data": {
            "image/png": "[encoded data removed]",
            "text/plain": [
              "<Figure size 432x288 with 1 Axes>"
            ]
          },
          "metadata": {
            "tags": [],
            "needs_background": "light"
          }
        }
      ]
    },
    {
      "cell_type": "code",
      "metadata": {
        "id": "X4hYum2ekvbR",
        "colab": {
          "base_uri": "https://localhost:8080/",
          "height": 265
        },
        "outputId": "0968dd99-008c-49f4-a4bc-ffbfc5984f1b"
      },
      "source": [
        "# show building south-facing walls in red\n",
        "fig, ax = plt.subplots()\n",
        "for i in range(0, len(x)-1):\n",
        "  if abs(x[i+1] - x[i]) > 0:\n",
        "    slope = (y[i+1] - y[i])/(x[i+1] - x[i])\n",
        "    if abs(slope) < .05 and y[i] < gdf_proj_latlon[\"geometry\"].iloc[0].centroid.coords[0][1]:\n",
        "      plt.plot([ x[i], x[i+1]],[y[i], y[i+1]], \"r\", linewidth=5)\n",
        "    else:\n",
        "      plt.plot([ x[i], x[i+1]],[y[i], y[i+1]], \"k\", linewidth=5)\n",
        "  else:\n",
        "    plt.plot([ x[i], x[i+1]],[y[i], y[i+1]], \"k\", linewidth=5)\n",
        "\n",
        "ax.ticklabel_format(useOffset=False)\n"
      ],
      "execution_count": 71,
      "outputs": [
        {
          "output_type": "display_data",
          "data": {
            "image/png": "[encoded data removed]",
            "text/plain": [
              "<Figure size 432x288 with 1 Axes>"
            ]
          },
          "metadata": {
            "tags": [],
            "needs_background": "light"
          }
        }
      ]
    }
  ]
}